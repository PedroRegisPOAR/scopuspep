{
 "cells": [
  {
   "cell_type": "markdown",
   "metadata": {},
   "source": [
    "https://stackoverflow.com/questions/5364050/reloading-submodules-in-ipython"
   ]
  },
  {
   "cell_type": "code",
   "execution_count": 1,
   "metadata": {},
   "outputs": [],
   "source": [
    "%load_ext autoreload\n",
    "%autoreload 2"
   ]
  },
  {
   "cell_type": "code",
   "execution_count": 2,
   "metadata": {},
   "outputs": [],
   "source": [
    "import os\n",
    "import sys\n",
    "\n",
    "#https://stackoverflow.com/a/35273613\n",
    "module_path = os.path.abspath(os.path.join('..'))\n",
    "\n",
    "if module_path not in sys.path:\n",
    "    sys.path.append(module_path)"
   ]
  },
  {
   "cell_type": "code",
   "execution_count": 3,
   "metadata": {},
   "outputs": [],
   "source": [
    "from scopuspep.scopuspep import Scopuspep"
   ]
  },
  {
   "cell_type": "code",
   "execution_count": 4,
   "metadata": {
    "scrolled": true
   },
   "outputs": [],
   "source": [
    "spep = Scopuspep('../tests/who_cited_who/3x3/scopus_3x3.csv')"
   ]
  },
  {
   "cell_type": "code",
   "execution_count": 9,
   "metadata": {},
   "outputs": [
    {
     "data": {
      "text/plain": [
       "['9237998500;55545861681;57200005484;55236963200;54583295000;',\n",
       " '36162817300;55389924800;7003300087;6603081105;7401532379;',\n",
       " '35186081900;35099401800;7402055909;']"
      ]
     },
     "execution_count": 9,
     "metadata": {},
     "output_type": "execute_result"
    }
   ],
   "source": [
    "#spep.df.columns\n",
    "#spep.df['Title'].tolist()\n",
    "#spep.process_dataframe()\n",
    "#spep.EIDs_list(spep.df)\n",
    "#spep.build_edges(refresh=True)\n",
    "#spep.delta_years()\n",
    "#spep.reindex_data_frame(spep.process_dataframe())\n",
    "\n",
    "#df_nodes, df_edges = spep.who_cited_who()\n",
    "\n",
    "spep.df['Author Ids'].tolist()"
   ]
  },
  {
   "cell_type": "code",
   "execution_count": 5,
   "metadata": {},
   "outputs": [],
   "source": [
    "#df_nodes.to_csv('nodes.csv', index=False)\n",
    "#df_edges.to_csv('edges.csv', index=False)"
   ]
  },
  {
   "cell_type": "code",
   "execution_count": 6,
   "metadata": {
    "scrolled": true
   },
   "outputs": [],
   "source": [
    "spep = Scopuspep('../tests/main_authors/2x2/scopus2x2.csv')\n",
    "\n",
    "#spep.df\n",
    "\n",
    "#spep.df[['Author Ids', 'EID']].to_dict()\n",
    "\n",
    "#spep.build_author_ids_EIDs_articles()\n",
    "\n",
    "#spep.build_set_all_authors()\n",
    "#spep.build_dict_author_articles()\n",
    "#spep.build_dict_author_articles()\n",
    "#spep.build_df_authors()\n",
    "#df_edges_authors_articles, ids_articles = spep.build_df_edges_authors_articles()\n",
    "#spep.set_id_type()\n",
    "#df_nodes_authors_articles, df_edges_authors_articles = spep.main_authors()\n",
    "\n",
    "#df_edges_authors_articles\n",
    "\n",
    "#df_nodes_authors_articles\n"
   ]
  },
  {
   "cell_type": "code",
   "execution_count": 7,
   "metadata": {},
   "outputs": [],
   "source": [
    "#df_node_authors_articles.to_csv('df_node_authors_articles.csv', index=False)\n",
    "#df_edges_authors_articles.to_csv('df_edges_authors_articles.csv', index=False)"
   ]
  }
 ],
 "metadata": {
  "kernelspec": {
   "display_name": "Python 3",
   "language": "python",
   "name": "python3"
  },
  "language_info": {
   "codemirror_mode": {
    "name": "ipython",
    "version": 3
   },
   "file_extension": ".py",
   "mimetype": "text/x-python",
   "name": "python",
   "nbconvert_exporter": "python",
   "pygments_lexer": "ipython3",
   "version": "3.6.6"
  }
 },
 "nbformat": 4,
 "nbformat_minor": 2
}
