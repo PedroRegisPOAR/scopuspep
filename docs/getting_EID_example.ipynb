{
 "cells": [
  {
   "cell_type": "markdown",
   "metadata": {},
   "source": [
    "# How to get the article EID\n",
    "\n",
    "\n",
    "To be used as example was chosen an article, the one was:\n",
    "\n",
    "\"Optimization of Water Distribution Network Design Using the Shuffled Frog Leaping Algorithm\"\n",
    "\n",
    "You can find the article in the [link](https://ascelibrary.org/doi/10.1061/%28ASCE%290733-9496%282003%29129%3A3%28210%29)."
   ]
  },
  {
   "cell_type": "markdown",
   "metadata": {},
   "source": [
    "### Here an image from the orignal site:\n",
    "\n",
    "![](images/EID_example1.png)"
   ]
  },
  {
   "cell_type": "markdown",
   "metadata": {},
   "source": [
    "To get the EID (Electronic Identifier) of the article you need open the scopus site https://www.scopus.com and search for the article title \"Optimization of Water Distribution Network Design Using the Shuffled Frog Leaping Algorithm\".\n",
    "\n",
    "First: Insert the article title.\n",
    "\n",
    "Note: You need to be inside of a institutional network to be able to search in the scopus or have a way to access like in Brazil there is the \"acesso cafe\" that allows the brazilian students to acess outside of the Universities."
   ]
  },
  {
   "cell_type": "markdown",
   "metadata": {},
   "source": [
    "Inserting the article. \n",
    "\n",
    "Note: insert the article title in quotes.\n",
    "![](images/EID_example2.png)"
   ]
  },
  {
   "cell_type": "markdown",
   "metadata": {},
   "source": [
    "After click in serch, you should see the result like the above image."
   ]
  },
  {
   "cell_type": "markdown",
   "metadata": {},
   "source": [
    "![](images/EID_example3.png)"
   ]
  },
  {
   "cell_type": "markdown",
   "metadata": {},
   "source": [
    "Click on the square near the title in the result query, to it change to brown and click in the Export button."
   ]
  },
  {
   "cell_type": "markdown",
   "metadata": {},
   "source": [
    "![](images/EID_example4.png)"
   ]
  },
  {
   "cell_type": "markdown",
   "metadata": {},
   "source": [
    "Now you should select a method of export. Click in the CSV option."
   ]
  },
  {
   "cell_type": "markdown",
   "metadata": {},
   "source": [
    "![](images/EID_example5.png)"
   ]
  },
  {
   "cell_type": "markdown",
   "metadata": {},
   "source": [
    "For this example select only de EID option and click export in the botton right of the window."
   ]
  },
  {
   "cell_type": "markdown",
   "metadata": {},
   "source": [
    "![](images/EID_example6.png)"
   ]
  },
  {
   "cell_type": "markdown",
   "metadata": {},
   "source": [
    "A file should be download. Open this file using some text editor that you like and copy the EID.\n",
    "\n",
    "It is: 2-s2.0-0038363680\n",
    "\n",
    "Obviusly you can just copy from the above. The idea is document how it was done."
   ]
  }
 ],
 "metadata": {
  "kernelspec": {
   "display_name": "Python 3",
   "language": "python",
   "name": "python3"
  },
  "language_info": {
   "codemirror_mode": {
    "name": "ipython",
    "version": 3
   },
   "file_extension": ".py",
   "mimetype": "text/x-python",
   "name": "python",
   "nbconvert_exporter": "python",
   "pygments_lexer": "ipython3",
   "version": "3.6.6"
  }
 },
 "nbformat": 4,
 "nbformat_minor": 2
}
