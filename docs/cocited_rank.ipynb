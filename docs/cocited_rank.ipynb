{
 "cells": [
  {
   "cell_type": "code",
   "execution_count": 1,
   "metadata": {},
   "outputs": [],
   "source": [
    "%load_ext autoreload\n",
    "%autoreload 2"
   ]
  },
  {
   "cell_type": "code",
   "execution_count": 2,
   "metadata": {},
   "outputs": [],
   "source": [
    "import os\n",
    "import sys\n",
    "\n",
    "#https://stackoverflow.com/a/35273613\n",
    "module_path = os.path.abspath(os.path.join('..'))\n",
    "\n",
    "if module_path not in sys.path:\n",
    "    sys.path.append(module_path)"
   ]
  },
  {
   "cell_type": "code",
   "execution_count": 3,
   "metadata": {},
   "outputs": [],
   "source": [
    "import pandas as pd\n",
    "\n",
    "from scopuspep.scopuspep import Scopuspep"
   ]
  },
  {
   "cell_type": "code",
   "execution_count": 4,
   "metadata": {},
   "outputs": [],
   "source": [
    "spep = Scopuspep('../tests/who_cited_who/3x3/scopus_3x3.csv')"
   ]
  },
  {
   "cell_type": "code",
   "execution_count": 5,
   "metadata": {},
   "outputs": [
    {
     "data": {
      "text/plain": [
       "['2-s2.0-85052823139', '2-s2.0-84978115007', '2-s2.0-84902375090']"
      ]
     },
     "execution_count": 5,
     "metadata": {},
     "output_type": "execute_result"
    }
   ],
   "source": [
    "EIDs = spep.EIDs_list()\n",
    "EIDs"
   ]
  },
  {
   "cell_type": "code",
   "execution_count": 6,
   "metadata": {},
   "outputs": [
    {
     "data": {
      "text/plain": [
       "{'2-s2.0-85052823139': ['2-s2.0-84978115007',\n",
       "  '2-s2.0-0036695720',\n",
       "  '2-s2.0-0036609180',\n",
       "  '2-s2.0-85007060782',\n",
       "  '2-s2.0-40449088905',\n",
       "  '2-s2.0-84906725860',\n",
       "  '2-s2.0-84924222057',\n",
       "  '2-s2.0-84871386956',\n",
       "  '2-s2.0-84868014007',\n",
       "  '2-s2.0-84855925873',\n",
       "  '2-s2.0-36749072655',\n",
       "  '2-s2.0-77951566656',\n",
       "  '2-s2.0-84907818061',\n",
       "  '2-s2.0-84976598255',\n",
       "  '2-s2.0-84910071426',\n",
       "  '2-s2.0-84893868781',\n",
       "  '2-s2.0-84976363286',\n",
       "  '2-s2.0-84962382655',\n",
       "  '2-s2.0-84878031896',\n",
       "  '2-s2.0-85027924941',\n",
       "  '2-s2.0-84906237126',\n",
       "  '2-s2.0-79955364443'],\n",
       " '2-s2.0-84978115007': ['2-s2.0-27944495958',\n",
       "  '2-s2.0-84870240618',\n",
       "  '2-s2.0-84902375090',\n",
       "  '2-s2.0-84983018136',\n",
       "  '2-s2.0-84865974340',\n",
       "  '2-s2.0-84859637672',\n",
       "  '2-s2.0-84857879298',\n",
       "  '2-s2.0-84886879524',\n",
       "  '2-s2.0-84907963081',\n",
       "  '2-s2.0-0030621389',\n",
       "  '2-s2.0-84907982811',\n",
       "  '2-s2.0-1542290922',\n",
       "  '2-s2.0-0030303686',\n",
       "  '2-s2.0-1342316901',\n",
       "  '2-s2.0-85027944983',\n",
       "  '2-s2.0-0346965867',\n",
       "  '2-s2.0-0030615866',\n",
       "  '2-s2.0-50249117708',\n",
       "  '2-s2.0-0004229371',\n",
       "  '2-s2.0-84878298607',\n",
       "  '2-s2.0-84982980220',\n",
       "  '2-s2.0-84856214379',\n",
       "  '2-s2.0-17044401787',\n",
       "  '2-s2.0-65349167690',\n",
       "  '2-s2.0-17044398196',\n",
       "  '2-s2.0-84943757432',\n",
       "  '2-s2.0-33845239227',\n",
       "  '2-s2.0-0036264803',\n",
       "  '2-s2.0-84908308747',\n",
       "  '2-s2.0-84883279273',\n",
       "  '2-s2.0-84919682992',\n",
       "  '2-s2.0-33749356176',\n",
       "  '2-s2.0-0003292006',\n",
       "  '2-s2.0-33751344903',\n",
       "  '2-s2.0-69349103825',\n",
       "  '2-s2.0-33847649214',\n",
       "  '2-s2.0-84941710114',\n",
       "  '2-s2.0-84983011134',\n",
       "  '2-s2.0-84908292767',\n",
       "  '2-s2.0-84930213214',\n",
       "  '2-s2.0-0024880944',\n",
       "  '2-s2.0-84865571936',\n",
       "  '2-s2.0-80052916787',\n",
       "  '2-s2.0-84876893786',\n",
       "  '2-s2.0-84876534645',\n",
       "  '2-s2.0-0030618657',\n",
       "  '2-s2.0-1542756616',\n",
       "  '2-s2.0-34047122162',\n",
       "  '2-s2.0-0028560869',\n",
       "  '2-s2.0-0031105936',\n",
       "  '2-s2.0-33750478899',\n",
       "  '2-s2.0-84890711661',\n",
       "  '2-s2.0-84902385510',\n",
       "  '2-s2.0-49449110178',\n",
       "  '2-s2.0-36249028753',\n",
       "  '2-s2.0-33845509937',\n",
       "  '2-s2.0-84902706876',\n",
       "  '2-s2.0-84982929537',\n",
       "  '2-s2.0-0000557442',\n",
       "  '2-s2.0-7944232501',\n",
       "  '2-s2.0-79953271891',\n",
       "  '2-s2.0-79551659879',\n",
       "  '2-s2.0-71849098668',\n",
       "  '2-s2.0-1642377575',\n",
       "  '2-s2.0-84895867730',\n",
       "  '2-s2.0-0002399948',\n",
       "  '2-s2.0-79952750687'],\n",
       " '2-s2.0-84902375090': ['2-s2.0-27944495958',\n",
       "  '2-s2.0-71049179925',\n",
       "  '2-s2.0-61349120005',\n",
       "  '2-s2.0-84977305035',\n",
       "  '2-s2.0-79952642477',\n",
       "  '2-s2.0-82055194183',\n",
       "  '2-s2.0-0022663673',\n",
       "  '2-s2.0-0003575234',\n",
       "  '2-s2.0-84879983093',\n",
       "  '2-s2.0-84865571936',\n",
       "  '2-s2.0-84864008771',\n",
       "  '2-s2.0-36749072536',\n",
       "  '2-s2.0-79951844998',\n",
       "  '2-s2.0-0034237840',\n",
       "  '2-s2.0-0023524021',\n",
       "  '2-s2.0-77950287134',\n",
       "  '2-s2.0-85028220723',\n",
       "  '2-s2.0-84879977642',\n",
       "  '2-s2.0-78651494356',\n",
       "  '2-s2.0-34547573834',\n",
       "  '2-s2.0-33846572929',\n",
       "  '2-s2.0-0002221525',\n",
       "  '2-s2.0-0025206195',\n",
       "  '2-s2.0-84870454154',\n",
       "  '2-s2.0-84861539763',\n",
       "  '2-s2.0-33846212765']}"
      ]
     },
     "execution_count": 6,
     "metadata": {},
     "output_type": "execute_result"
    }
   ],
   "source": [
    "EIDs_dict = spep.build_EIDs_dict(EIDs)\n",
    "EIDs_dict"
   ]
  },
  {
   "cell_type": "code",
   "execution_count": 7,
   "metadata": {},
   "outputs": [],
   "source": [
    "EIDs_repeated = [eid for key in EIDs_dict for eid in EIDs_dict[key]]\n",
    "\n",
    "# This removes the base articles from the references\n",
    "EIDs_repeated = [key for key in EIDs_repeated if key not in EIDs]\n",
    "\n",
    "from collections import Counter\n",
    "couted_EIDs = Counter(EIDs_repeated)\n",
    "couted_EIDs = couted_EIDs.most_common(5)"
   ]
  },
  {
   "cell_type": "code",
   "execution_count": 8,
   "metadata": {
    "scrolled": true
   },
   "outputs": [],
   "source": [
    "from scopus import ScopusAbstract"
   ]
  },
  {
   "cell_type": "code",
   "execution_count": 9,
   "metadata": {},
   "outputs": [
    {
     "data": {
      "text/html": [
       "<div>\n",
       "<style scoped>\n",
       "    .dataframe tbody tr th:only-of-type {\n",
       "        vertical-align: middle;\n",
       "    }\n",
       "\n",
       "    .dataframe tbody tr th {\n",
       "        vertical-align: top;\n",
       "    }\n",
       "\n",
       "    .dataframe thead th {\n",
       "        text-align: right;\n",
       "    }\n",
       "</style>\n",
       "<table border=\"1\" class=\"dataframe\">\n",
       "  <thead>\n",
       "    <tr style=\"text-align: right;\">\n",
       "      <th></th>\n",
       "      <th>scopus_url</th>\n",
       "      <th>eid</th>\n",
       "      <th>title</th>\n",
       "      <th>doi</th>\n",
       "    </tr>\n",
       "  </thead>\n",
       "  <tbody>\n",
       "    <tr>\n",
       "      <th>0</th>\n",
       "      <td>https://www.scopus.com/inward/record.uri?partn...</td>\n",
       "      <td>2-s2.0-27944495958</td>\n",
       "      <td>Heat as a ground water tracer</td>\n",
       "      <td>10.1111/j.1745-6584.2005.00052.x</td>\n",
       "    </tr>\n",
       "    <tr>\n",
       "      <th>1</th>\n",
       "      <td>https://www.scopus.com/inward/record.uri?partn...</td>\n",
       "      <td>2-s2.0-84865571936</td>\n",
       "      <td>Active Thermal Tracer Tests for Improved Hydro...</td>\n",
       "      <td>10.1111/j.1745-6584.2012.00913.x</td>\n",
       "    </tr>\n",
       "    <tr>\n",
       "      <th>2</th>\n",
       "      <td>https://www.scopus.com/inward/record.uri?partn...</td>\n",
       "      <td>2-s2.0-0036695720</td>\n",
       "      <td>Experiencing the Teton dam failure</td>\n",
       "      <td>None</td>\n",
       "    </tr>\n",
       "    <tr>\n",
       "      <th>3</th>\n",
       "      <td>https://www.scopus.com/inward/record.uri?partn...</td>\n",
       "      <td>2-s2.0-0036609180</td>\n",
       "      <td>Analysis of coupled seepage and temperature fi...</td>\n",
       "      <td>10.1002/cnm.498</td>\n",
       "    </tr>\n",
       "    <tr>\n",
       "      <th>4</th>\n",
       "      <td>https://www.scopus.com/inward/record.uri?partn...</td>\n",
       "      <td>2-s2.0-85007060782</td>\n",
       "      <td>An experimental study: Fiber Bragg grating–hyd...</td>\n",
       "      <td>10.1177/1475921716661874</td>\n",
       "    </tr>\n",
       "  </tbody>\n",
       "</table>\n",
       "</div>"
      ],
      "text/plain": [
       "                                          scopus_url                 eid  \\\n",
       "0  https://www.scopus.com/inward/record.uri?partn...  2-s2.0-27944495958   \n",
       "1  https://www.scopus.com/inward/record.uri?partn...  2-s2.0-84865571936   \n",
       "2  https://www.scopus.com/inward/record.uri?partn...   2-s2.0-0036695720   \n",
       "3  https://www.scopus.com/inward/record.uri?partn...   2-s2.0-0036609180   \n",
       "4  https://www.scopus.com/inward/record.uri?partn...  2-s2.0-85007060782   \n",
       "\n",
       "                                               title  \\\n",
       "0                      Heat as a ground water tracer   \n",
       "1  Active Thermal Tracer Tests for Improved Hydro...   \n",
       "2                 Experiencing the Teton dam failure   \n",
       "3  Analysis of coupled seepage and temperature fi...   \n",
       "4  An experimental study: Fiber Bragg grating–hyd...   \n",
       "\n",
       "                                doi  \n",
       "0  10.1111/j.1745-6584.2005.00052.x  \n",
       "1  10.1111/j.1745-6584.2012.00913.x  \n",
       "2                              None  \n",
       "3                   10.1002/cnm.498  \n",
       "4          10.1177/1475921716661874  "
      ]
     },
     "execution_count": 9,
     "metadata": {},
     "output_type": "execute_result"
    }
   ],
   "source": [
    "d = {'scopus_url':[],\n",
    "    'eid':[],\n",
    "    'title':[],\n",
    "    'doi':[],\n",
    "    }\n",
    "\n",
    "for eid in couted_EIDs:\n",
    "    ab = ScopusAbstract(eid[0], view='FULL')\n",
    "    d['scopus_url'].append(ab.scopus_url)\n",
    "    d['eid'].append(ab.eid)\n",
    "    d['title'].append(ab.title)\n",
    "    d['doi'].append(ab.doi)\n",
    "\n",
    "\n",
    "#dir(ab)\n",
    "\n",
    "df = pd.DataFrame(d)\n",
    "\n",
    "df"
   ]
  }
 ],
 "metadata": {
  "kernelspec": {
   "display_name": "Python 3",
   "language": "python",
   "name": "python3"
  },
  "language_info": {
   "codemirror_mode": {
    "name": "ipython",
    "version": 3
   },
   "file_extension": ".py",
   "mimetype": "text/x-python",
   "name": "python",
   "nbconvert_exporter": "python",
   "pygments_lexer": "ipython3",
   "version": "3.6.6"
  }
 },
 "nbformat": 4,
 "nbformat_minor": 2
}
